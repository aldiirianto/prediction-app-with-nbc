{
  "nbformat": 4,
  "nbformat_minor": 0,
  "metadata": {
    "colab": {
      "name": "Aplikasi Prediksi Bunga Iris.ipynb",
      "provenance": [],
      "collapsed_sections": [],
      "authorship_tag": "ABX9TyNPVSzUZpUmWpFYRzGDEsvT",
      "include_colab_link": true
    },
    "kernelspec": {
      "name": "python3",
      "display_name": "Python 3"
    },
    "language_info": {
      "name": "python"
    }
  },
  "cells": [
    {
      "cell_type": "markdown",
      "metadata": {
        "id": "view-in-github",
        "colab_type": "text"
      },
      "source": [
        "<a href=\"https://colab.research.google.com/github/aldiirianto/prediction-app-with-nbc/blob/main/Aplikasi_Prediksi_Bunga_Iris.ipynb\" target=\"_parent\"><img src=\"https://colab.research.google.com/assets/colab-badge.svg\" alt=\"Open In Colab\"/></a>"
      ]
    },
    {
      "cell_type": "code",
      "metadata": {
        "id": "cItBuUveqbvW"
      },
      "source": [
        "#memanggil library yang diperlukan\n",
        "from sklearn import datasets\n",
        "from sklearn.naive_bayes import GaussianNB\n",
        "from sklearn.model_selection import train_test_split\n",
        "from sklearn.metrics import accuracy_score\n",
        "from sklearn.metrics import classification_report\n",
        "import pandas as pd"
      ],
      "execution_count": 1,
      "outputs": []
    },
    {
      "cell_type": "code",
      "metadata": {
        "id": "5bDWE5F9zIro"
      },
      "source": [
        "#memanggil dataset dari library sklearn => Iris dataset\n",
        "bunga = datasets.load_iris()"
      ],
      "execution_count": 21,
      "outputs": []
    },
    {
      "cell_type": "code",
      "metadata": {
        "id": "Yo9kwAX6z93I"
      },
      "source": [
        "#Training Dataset\n",
        "x = bunga.data"
      ],
      "execution_count": 22,
      "outputs": []
    },
    {
      "cell_type": "code",
      "metadata": {
        "id": "_2dev6ka0CvY"
      },
      "source": [
        "#Target Dataset\n",
        "y = bunga.target"
      ],
      "execution_count": 23,
      "outputs": []
    },
    {
      "cell_type": "code",
      "metadata": {
        "colab": {
          "base_uri": "https://localhost:8080/"
        },
        "id": "F4VfPN7-0GII",
        "outputId": "1d4991c6-8baa-4995-e56f-787d81ad5188"
      },
      "source": [
        "#Mencetak 10 data pertama dari DataFrame\n",
        "df = pd.DataFrame(x, columns=bunga.feature_names)\n",
        "print(df.head(10))"
      ],
      "execution_count": 24,
      "outputs": [
        {
          "output_type": "stream",
          "name": "stdout",
          "text": [
            "   sepal length (cm)  sepal width (cm)  petal length (cm)  petal width (cm)\n",
            "0                5.1               3.5                1.4               0.2\n",
            "1                4.9               3.0                1.4               0.2\n",
            "2                4.7               3.2                1.3               0.2\n",
            "3                4.6               3.1                1.5               0.2\n",
            "4                5.0               3.6                1.4               0.2\n",
            "5                5.4               3.9                1.7               0.4\n",
            "6                4.6               3.4                1.4               0.3\n",
            "7                5.0               3.4                1.5               0.2\n",
            "8                4.4               2.9                1.4               0.2\n",
            "9                4.9               3.1                1.5               0.1\n"
          ]
        }
      ]
    },
    {
      "cell_type": "code",
      "metadata": {
        "colab": {
          "base_uri": "https://localhost:8080/"
        },
        "id": "PwdAc2W_0_D1",
        "outputId": "c33456e8-0fd0-449a-c898-7492e2300aa1"
      },
      "source": [
        "#menampilkan jumlah baris dan kolom dari dataset\n",
        "print(bunga.data.shape)"
      ],
      "execution_count": 25,
      "outputs": [
        {
          "output_type": "stream",
          "name": "stdout",
          "text": [
            "(150, 4)\n"
          ]
        }
      ]
    },
    {
      "cell_type": "code",
      "metadata": {
        "colab": {
          "base_uri": "https://localhost:8080/"
        },
        "id": "TYvAwmRe1IUY",
        "outputId": "14e965db-2293-40a0-dcff-e9018656f75f"
      },
      "source": [
        "#menampilkan target set dari data\n",
        "print(bunga.target_names)"
      ],
      "execution_count": 26,
      "outputs": [
        {
          "output_type": "stream",
          "name": "stdout",
          "text": [
            "['setosa' 'versicolor' 'virginica']\n"
          ]
        }
      ]
    },
    {
      "cell_type": "code",
      "metadata": {
        "id": "ZZCG1_-J1tm7"
      },
      "source": [
        "#memilah data training dan data testing => split train & test data\n",
        "x_train, x_test, y_train, y_test = train_test_split(x,y)"
      ],
      "execution_count": 27,
      "outputs": []
    },
    {
      "cell_type": "code",
      "metadata": {
        "colab": {
          "base_uri": "https://localhost:8080/"
        },
        "id": "84b1tDIP140h",
        "outputId": "86c7dbf6-85d8-4c2e-9989-6c9a2f7948e0"
      },
      "source": [
        "#memanggil naive bayes classifier => mengaktifkan gaussian naive bayes\n",
        "nbc = GaussianNB()\n",
        "nbc.fit(bunga.data, bunga.target)"
      ],
      "execution_count": 28,
      "outputs": [
        {
          "output_type": "execute_result",
          "data": {
            "text/plain": [
              "GaussianNB()"
            ]
          },
          "metadata": {},
          "execution_count": 28
        }
      ]
    },
    {
      "cell_type": "code",
      "metadata": {
        "colab": {
          "base_uri": "https://localhost:8080/"
        },
        "id": "ehvocAb-2D9J",
        "outputId": "b90cea45-0bc7-46a8-8ce6-bdb60e2eb206"
      },
      "source": [
        "#melakukan prediksi pada data training\n",
        "nbc.predict(bunga.data)"
      ],
      "execution_count": 29,
      "outputs": [
        {
          "output_type": "execute_result",
          "data": {
            "text/plain": [
              "array([0, 0, 0, 0, 0, 0, 0, 0, 0, 0, 0, 0, 0, 0, 0, 0, 0, 0, 0, 0, 0, 0,\n",
              "       0, 0, 0, 0, 0, 0, 0, 0, 0, 0, 0, 0, 0, 0, 0, 0, 0, 0, 0, 0, 0, 0,\n",
              "       0, 0, 0, 0, 0, 0, 1, 1, 2, 1, 1, 1, 1, 1, 1, 1, 1, 1, 1, 1, 1, 1,\n",
              "       1, 1, 1, 1, 2, 1, 1, 1, 1, 1, 1, 2, 1, 1, 1, 1, 1, 1, 1, 1, 1, 1,\n",
              "       1, 1, 1, 1, 1, 1, 1, 1, 1, 1, 1, 1, 2, 2, 2, 2, 2, 2, 1, 2, 2, 2,\n",
              "       2, 2, 2, 2, 2, 2, 2, 2, 2, 1, 2, 2, 2, 2, 2, 2, 2, 2, 2, 2, 2, 2,\n",
              "       2, 1, 2, 2, 2, 2, 2, 2, 2, 2, 2, 2, 2, 2, 2, 2, 2, 2])"
            ]
          },
          "metadata": {},
          "execution_count": 29
        }
      ]
    },
    {
      "cell_type": "code",
      "metadata": {
        "colab": {
          "base_uri": "https://localhost:8080/"
        },
        "id": "C-cMkSAd2JXS",
        "outputId": "54be7c33-8b6e-47db-f850-33109ddfc875"
      },
      "source": [
        "#melakukan prediksi pada data input\n",
        "panjang_sepal = 4.9\n",
        "lebar_sepal   = 1.1\n",
        "panjang_petal = 2.5\n",
        "lebar_petal   = 3.1\n",
        "\n",
        "DataUji = [[panjang_sepal, lebar_sepal, panjang_petal, lebar_petal]]\n",
        "\n",
        "#melakukan prediksi berdasarkan data inputan\n",
        "y_pred = nbc.predict(DataUji)\n",
        "\n",
        "#Kondisi untuk Cetak Hasil Prediksi\n",
        "if y_pred == 0:\n",
        "        hasil = \"Setosa\"\n",
        "elif y_pred == 1:\n",
        "        hasil = \"Versicolor\"\n",
        "elif y_pred == 2:\n",
        "        hasil = \"Virginica\"\n",
        "else:\n",
        "        hasil == \"Eror\"\n",
        "\n",
        "print(\"Hasil prediksi termasuk ke dalam jenis bunga Iris : \", hasil)"
      ],
      "execution_count": 41,
      "outputs": [
        {
          "output_type": "stream",
          "name": "stdout",
          "text": [
            "Hasil prediksi termasuk ke dalam jenis bunga Iris :  Virginica\n"
          ]
        }
      ]
    }
  ]
}